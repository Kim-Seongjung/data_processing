{
 "cells": [
  {
   "cell_type": "code",
   "execution_count": null,
   "metadata": {
    "collapsed": true
   },
   "outputs": [],
   "source": []
  },
  {
   "cell_type": "code",
   "execution_count": 1,
   "metadata": {
    "collapsed": false
   },
   "outputs": [
    {
     "ename": "SyntaxError",
     "evalue": "non-keyword arg after keyword arg (<ipython-input-1-21a5010ad7d2>, line 11)",
     "output_type": "error",
     "traceback": [
      "\u001b[0;36m  File \u001b[0;32m\"<ipython-input-1-21a5010ad7d2>\"\u001b[0;36m, line \u001b[0;32m11\u001b[0m\n\u001b[0;31m    Utility_.pic2numpy_TVT(path1, path2 , train_rate=0.8 , val_rate=0.1 ,save_path , img_col , img_row , color_ch=3,)\u001b[0m\n\u001b[0;31mSyntaxError\u001b[0m\u001b[0;31m:\u001b[0m non-keyword arg after keyword arg\n"
     ]
    }
   ],
   "source": [
    "import tensorflow as tf\n",
    "import Utility_\n",
    "'usb/total_271giga_98825files/1000_png_2'\n",
    "path1='/home/user01/usb/total_271giga_98825files/1000_png_2'\n",
    "path2='/home/user01/usb/total_271giga_98825files/1000_png_2'\n",
    "\n",
    "dirname=\"./eye_numpy\"\n",
    "if not os.path.isdir(dirname):\n",
    "    os.mkdir(dirname)\n",
    "save_path=dirname\n",
    "Utility_.pic2numpy_TVT(path1, path2 , train_rate=0.8 , val_rate=0.1 ,save_path , img_col , img_row , color_ch=3,)\n",
    "\n"
   ]
  },
  {
   "cell_type": "raw",
   "metadata": {},
   "source": [
    "Fundus photography data version 1.0\n",
    "\n",
    "Total 98818 files / 271GB\n",
    "\n",
    "1000_png: Normal \t(50193 files \t/ 137GB)\n",
    "1000_png_2: Normal \t(34746 files \t/ 96.0GB)\n",
    "1001_png: Cataract \t(1294 files \t/ 3.47GB)\n",
    "1010_png: Glaucoma \t(8,909 files \t/ 24.6GB)\n",
    "1011_png: Cataract & Glaucoma (70 files / 192 MB)\n",
    "1100_png: Retina \t(3359 files\t / 9.12GB)\n",
    "1101_png: Retina + Cataract (79 files \t/ 214MB)\n",
    "1110_png: Retina + Glaucoma (167 files \t/ 468MB) "
   ]
  },
  {
   "cell_type": "code",
   "execution_count": null,
   "metadata": {
    "collapsed": true
   },
   "outputs": [],
   "source": []
  }
 ],
 "metadata": {
  "kernelspec": {
   "display_name": "Python 2",
   "language": "python",
   "name": "python2"
  },
  "language_info": {
   "codemirror_mode": {
    "name": "ipython",
    "version": 2
   },
   "file_extension": ".py",
   "mimetype": "text/x-python",
   "name": "python",
   "nbconvert_exporter": "python",
   "pygments_lexer": "ipython2",
   "version": "2.7.6"
  }
 },
 "nbformat": 4,
 "nbformat_minor": 1
}
