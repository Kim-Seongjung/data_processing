{
 "cells": [
  {
   "cell_type": "code",
   "execution_count": 3,
   "metadata": {
    "collapsed": true
   },
   "outputs": [],
   "source": [
    "from PIL import Image"
   ]
  },
  {
   "cell_type": "code",
   "execution_count": 4,
   "metadata": {
    "collapsed": true
   },
   "outputs": [],
   "source": [
    "import os\n",
    "import numpy as np\n",
    "import matplotlib.pyplot as plt\n",
    "%matplotlib inline"
   ]
  },
  {
   "cell_type": "code",
   "execution_count": 5,
   "metadata": {
    "collapsed": true
   },
   "outputs": [],
   "source": [
    "def crawl_folder(folder_path): #search_str 찾고자 하는 string \n",
    "    search_path_list=[]\n",
    "    fileList = os.walk(folder_path).next()[2]\n",
    "    subFolder_list = os.walk(folder_path).next()[1]\n",
    "    if(len(fileList)!=0):\n",
    "        for j in range(len(fileList)):\n",
    "            search_path_list.append(folder_path+'/'+fileList[j])\n",
    "    if len(subFolder_list)==0:\n",
    "        return search_path_list\n",
    "    else: \n",
    "        for i in range(len(subFolder_list)):\n",
    "            search_path_list.extend(crawl_folder(folder_path+'/'+subFolder_list[i] ))\n",
    "        return search_path_list"
   ]
  },
  {
   "cell_type": "code",
   "execution_count": 8,
   "metadata": {
    "collapsed": true
   },
   "outputs": [],
   "source": [
    "def make_numpy(path , save_path):\n",
    "    file_list=crawl_folder(path)\n",
    "\n",
    "    img=plt.imread(file_list[0])\n",
    "    np_img=np.asarray(img)\n",
    "    row,col,ch=np.shape(np_img)\n",
    "\n",
    "    n_file = len(file_list)\n",
    "    ret_mat=np.zeros(shape=[n_file , row, col ,ch ])\n",
    "    for i,path in enumerate(file_list):\n",
    "      \n",
    "        img=plt.imread(path)\n",
    "        np_img=np.asarray(img)\n",
    "        ret_mat[i,:,:,:]=np_img\n",
    "    np.save(save_path ,ret_mat)\n"
   ]
  },
  {
   "cell_type": "code",
   "execution_count": 10,
   "metadata": {
    "collapsed": false
   },
   "outputs": [],
   "source": [
    "path='/home/seongjung/save_temp'\n",
    "save_path='/home/seongjung/save_numpy/1'\n",
    "make_numpy(path , save_path)"
   ]
  },
  {
   "cell_type": "code",
   "execution_count": null,
   "metadata": {
    "collapsed": true
   },
   "outputs": [],
   "source": []
  }
 ],
 "metadata": {
  "anaconda-cloud": {},
  "kernelspec": {
   "display_name": "Python [conda root]",
   "language": "python",
   "name": "conda-root-py"
  },
  "language_info": {
   "codemirror_mode": {
    "name": "ipython",
    "version": 2
   },
   "file_extension": ".py",
   "mimetype": "text/x-python",
   "name": "python",
   "nbconvert_exporter": "python",
   "pygments_lexer": "ipython2",
   "version": "2.7.12"
  }
 },
 "nbformat": 4,
 "nbformat_minor": 1
}
